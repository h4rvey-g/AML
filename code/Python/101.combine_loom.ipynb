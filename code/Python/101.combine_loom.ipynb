{
 "cells": [
  {
   "cell_type": "code",
   "execution_count": 1,
   "metadata": {},
   "outputs": [],
   "source": [
    "import loompy\n",
    "import os\n",
    "import glob"
   ]
  },
  {
   "cell_type": "code",
   "execution_count": 2,
   "metadata": {},
   "outputs": [
    {
     "name": "stdout",
     "output_type": "stream",
     "text": [
      "Dataset shape: (33836, 5306)\n",
      "Number of cells: 5306\n",
      "\n",
      "First 5 cell IDs:\n",
      "anno_decon_sorted_QY5T0:CELL10159_N2x\n",
      "anno_decon_sorted_QY5T0:CELL10364_N2x\n",
      "anno_decon_sorted_QY5T0:CELL10034_N2x\n",
      "anno_decon_sorted_QY5T0:CELL10025_N2x\n",
      "anno_decon_sorted_QY5T0:CELL10441_N2x\n",
      "\n",
      "Column attributes:\n",
      "- CellID\n"
     ]
    }
   ],
   "source": [
    "# Connect to the T2 loom file\n",
    "t2_loom_path = \"data/103.self_workflow/T2/velocyto/T2.loom\"\n",
    "with loompy.connect(t2_loom_path) as ds:\n",
    "    # Print basic info\n",
    "    print(f\"Dataset shape: {ds.shape}\")\n",
    "    print(f\"Number of cells: {ds.shape[1]}\")\n",
    "    \n",
    "    # Get the cell IDs\n",
    "    cell_ids = ds.ca.CellID\n",
    "    \n",
    "    # Print the first few cell IDs\n",
    "    print(\"\\nFirst 5 cell IDs:\")\n",
    "    for i in range(min(5, len(cell_ids))):\n",
    "        print(cell_ids[i])\n",
    "    \n",
    "    # Check if there are any column attributes\n",
    "    print(\"\\nColumn attributes:\")\n",
    "    for attr in ds.ca:\n",
    "        print(f\"- {attr}\")"
   ]
  },
  {
   "cell_type": "code",
   "execution_count": 3,
   "metadata": {},
   "outputs": [
    {
     "name": "stdout",
     "output_type": "stream",
     "text": [
      "Processed N1: Created modified loom file at data/103.self_workflow/N1/velocyto/N1_modified.loom\n",
      "Example cell ID transformation: anno_decon_sorted_72QA9:CELL10073_N1x → N1_CELL10073_N1\n",
      "Processed N2: Created modified loom file at data/103.self_workflow/N2/velocyto/N2_modified.loom\n",
      "Example cell ID transformation: anno_decon_sorted_7UXCK:CELL12108_N1x → N2_CELL12108_N1\n",
      "Processed N4: Created modified loom file at data/103.self_workflow/N4/velocyto/N4_modified.loom\n",
      "Example cell ID transformation: anno_decon_sorted_DITAM:CELL114_N2x → N4_CELL114_N2\n",
      "Processed N7: Created modified loom file at data/103.self_workflow/N7/velocyto/N7_modified.loom\n",
      "Example cell ID transformation: anno_decon_sorted_84NH2:CELL10166_N2x → N7_CELL10166_N2\n",
      "Processed T1: Created modified loom file at data/103.self_workflow/T1/velocyto/T1_modified.loom\n",
      "Example cell ID transformation: anno_decon_sorted_LBLVB:CELL10053_N1x → T1_CELL10053_N1\n",
      "Processed T2: Created modified loom file at data/103.self_workflow/T2/velocyto/T2_modified.loom\n",
      "Example cell ID transformation: anno_decon_sorted_QY5T0:CELL10159_N2x → T2_CELL10159_N2\n",
      "Processed T4: Created modified loom file at data/103.self_workflow/T4/velocyto/T4_modified.loom\n",
      "Example cell ID transformation: anno_decon_sorted_J39QQ:CELL1013_N2x → T4_CELL1013_N2\n",
      "Processed T7: Created modified loom file at data/103.self_workflow/T7/velocyto/T7_modified.loom\n",
      "Example cell ID transformation: anno_decon_sorted_THGV3:CELL10303_N2x → T7_CELL10303_N2\n"
     ]
    }
   ],
   "source": [
    "import shutil\n",
    "import numpy as np\n",
    "\n",
    "# Define the base directory where loom files are located\n",
    "base_dir = \"data/103.self_workflow\"\n",
    "samples = [\"N1\", \"N2\", \"N4\", \"N7\", \"T1\", \"T2\", \"T4\", \"T7\"]\n",
    "# Process each sample\n",
    "for sample in samples:\n",
    "    # Construct the path to the loom file\n",
    "    loom_path = f\"{base_dir}/{sample}/velocyto/{sample}.loom\"\n",
    "    \n",
    "    # Create the copy path\n",
    "    copy_path = f\"{base_dir}/{sample}/velocyto/{sample}_modified.loom\"\n",
    "    \n",
    "    # First make a copy of the original loom file\n",
    "    shutil.copy2(loom_path, copy_path)\n",
    "    \n",
    "    # Open the copy and modify cell names\n",
    "    with loompy.connect(copy_path, 'r+') as ds:\n",
    "        # Get the cell IDs\n",
    "        cell_ids = ds.ca.CellID\n",
    "        \n",
    "        # Create new cell IDs by replacing the part before : with sample name\n",
    "        # and removing the ending x\n",
    "        new_cell_ids = np.array([\n",
    "            f\"{sample}_{cell_id.split(':')[1][:-1]}\" \n",
    "            for cell_id in cell_ids\n",
    "        ])\n",
    "        \n",
    "        # Update the cell IDs in the loom file\n",
    "        ds.ca.CellID = new_cell_ids\n",
    "        \n",
    "    print(f\"Processed {sample}: Created modified loom file at {copy_path}\")\n",
    "    print(f\"Example cell ID transformation: {cell_ids[0]} → {new_cell_ids[0]}\")"
   ]
  },
  {
   "cell_type": "code",
   "execution_count": 2,
   "metadata": {},
   "outputs": [
    {
     "name": "stdout",
     "output_type": "stream",
     "text": [
      "Found 8 of 8 expected loom files\n"
     ]
    },
    {
     "name": "stderr",
     "output_type": "stream",
     "text": [
      "WARNING:root:╭── 'batch_scan_layers' is deprecated. Use 'scan' instead\n",
      "WARNING:root:╰──> at /workspaces/AML/scveloenv/lib/python3.12/site-packages/loompy/loompy.py, line 471\n",
      "WARNING:root:╭── 'batch_scan_layers' is deprecated. Use 'scan' instead\n",
      "WARNING:root:╰──> at /workspaces/AML/scveloenv/lib/python3.12/site-packages/loompy/loompy.py, line 471\n",
      "WARNING:root:╭── 'batch_scan_layers' is deprecated. Use 'scan' instead\n",
      "WARNING:root:╰──> at /workspaces/AML/scveloenv/lib/python3.12/site-packages/loompy/loompy.py, line 471\n",
      "WARNING:root:╭── 'batch_scan_layers' is deprecated. Use 'scan' instead\n",
      "WARNING:root:╰──> at /workspaces/AML/scveloenv/lib/python3.12/site-packages/loompy/loompy.py, line 471\n",
      "WARNING:root:╭── 'batch_scan_layers' is deprecated. Use 'scan' instead\n",
      "WARNING:root:╰──> at /workspaces/AML/scveloenv/lib/python3.12/site-packages/loompy/loompy.py, line 471\n",
      "WARNING:root:╭── 'batch_scan_layers' is deprecated. Use 'scan' instead\n",
      "WARNING:root:╰──> at /workspaces/AML/scveloenv/lib/python3.12/site-packages/loompy/loompy.py, line 471\n",
      "WARNING:root:╭── 'batch_scan_layers' is deprecated. Use 'scan' instead\n",
      "WARNING:root:╰──> at /workspaces/AML/scveloenv/lib/python3.12/site-packages/loompy/loompy.py, line 471\n"
     ]
    },
    {
     "name": "stdout",
     "output_type": "stream",
     "text": [
      "Successfully created combined loom file at: data/103.self_workflow/velocyto_combined.loom\n",
      "\n",
      "Combined dataset shape: (33836, 80603)\n",
      "Number of cells: 80603\n",
      "Number of genes: 33836\n",
      "\n",
      "Cells per sample:\n",
      "- N1: 26102 cells\n",
      "- N2: 9354 cells\n",
      "- N4: 9656 cells\n",
      "- N7: 9254 cells\n",
      "- T1: 3306 cells\n",
      "- T2: 5306 cells\n",
      "- T4: 13207 cells\n",
      "- T7: 4418 cells\n"
     ]
    }
   ],
   "source": [
    "base_dir = \"data/103.self_workflow\"\n",
    "samples = [\"N1\", \"N2\", \"N4\", \"N7\", \"T1\", \"T2\", \"T4\", \"T7\"]\n",
    "# Define output path for the combined loom file\n",
    "combined_loom_path = f\"{base_dir}/velocyto_combined.loom\"\n",
    "\n",
    "# List all modified loom files\n",
    "loom_files = [f\"{base_dir}/{sample}/velocyto/{sample}_modified.loom\" for sample in samples]\n",
    "\n",
    "# Verify that all files exist\n",
    "existing_files = [f for f in loom_files if os.path.exists(f)]\n",
    "print(f\"Found {len(existing_files)} of {len(loom_files)} expected loom files\")\n",
    "\n",
    "if len(existing_files) == len(loom_files):\n",
    "    # Combine all the loom files\n",
    "    loompy.combine(existing_files, combined_loom_path)\n",
    "    print(f\"Successfully created combined loom file at: {combined_loom_path}\")\n",
    "    \n",
    "    # Display basic information about the combined file\n",
    "    with loompy.connect(combined_loom_path) as ds:\n",
    "        print(f\"\\nCombined dataset shape: {ds.shape}\")\n",
    "        print(f\"Number of cells: {ds.shape[1]}\")\n",
    "        print(f\"Number of genes: {ds.shape[0]}\")\n",
    "        \n",
    "        # Print sample distribution\n",
    "        sample_counts = {}\n",
    "        for cell_id in ds.ca.CellID:\n",
    "            sample_name = cell_id.split('_')[0]\n",
    "            sample_counts[sample_name] = sample_counts.get(sample_name, 0) + 1\n",
    "            \n",
    "        print(\"\\nCells per sample:\")\n",
    "        for sample, count in sample_counts.items():\n",
    "            print(f\"- {sample}: {count} cells\")\n",
    "else:\n",
    "    print(\"Warning: Some loom files were not found. Check paths and try again.\")"
   ]
  }
 ],
 "metadata": {
  "kernelspec": {
   "display_name": "scveloenv",
   "language": "python",
   "name": "python3"
  },
  "language_info": {
   "codemirror_mode": {
    "name": "ipython",
    "version": 3
   },
   "file_extension": ".py",
   "mimetype": "text/x-python",
   "name": "python",
   "nbconvert_exporter": "python",
   "pygments_lexer": "ipython3",
   "version": "3.12.9"
  }
 },
 "nbformat": 4,
 "nbformat_minor": 2
}
