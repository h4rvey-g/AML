{
 "cells": [
  {
   "cell_type": "code",
   "execution_count": 2,
   "metadata": {},
   "outputs": [],
   "source": [
    "import loompy\n",
    "import os\n",
    "import glob"
   ]
  },
  {
   "cell_type": "code",
   "execution_count": 3,
   "metadata": {},
   "outputs": [
    {
     "ename": "IndexError",
     "evalue": "list index out of range",
     "output_type": "error",
     "traceback": [
      "\u001b[0;31m---------------------------------------------------------------------------\u001b[0m",
      "\u001b[0;31mIndexError\u001b[0m                                Traceback (most recent call last)",
      "Cell \u001b[0;32mIn[3], line 17\u001b[0m\n\u001b[1;32m     15\u001b[0m \u001b[38;5;28;01mfor\u001b[39;00m cell_id \u001b[38;5;129;01min\u001b[39;00m ds\u001b[38;5;241m.\u001b[39mca\u001b[38;5;241m.\u001b[39mCellID:\n\u001b[1;32m     16\u001b[0m     parts \u001b[38;5;241m=\u001b[39m cell_id\u001b[38;5;241m.\u001b[39msplit(\u001b[38;5;124m\"\u001b[39m\u001b[38;5;124m:\u001b[39m\u001b[38;5;124m\"\u001b[39m)\n\u001b[0;32m---> 17\u001b[0m     new_cell_id \u001b[38;5;241m=\u001b[39m \u001b[38;5;124mf\u001b[39m\u001b[38;5;124m\"\u001b[39m\u001b[38;5;132;01m{\u001b[39;00msample\u001b[38;5;132;01m}\u001b[39;00m\u001b[38;5;124m_\u001b[39m\u001b[38;5;132;01m{\u001b[39;00m\u001b[43mparts\u001b[49m\u001b[43m[\u001b[49m\u001b[38;5;241;43m1\u001b[39;49m\u001b[43m]\u001b[49m\u001b[38;5;132;01m}\u001b[39;00m\u001b[38;5;124m\"\u001b[39m\n\u001b[1;32m     18\u001b[0m     \u001b[38;5;66;03m# remove the last x in the cell id\u001b[39;00m\n\u001b[1;32m     19\u001b[0m     new_cell_id \u001b[38;5;241m=\u001b[39m new_cell_id[:\u001b[38;5;241m-\u001b[39m\u001b[38;5;241m1\u001b[39m]\n",
      "\u001b[0;31mIndexError\u001b[0m: list index out of range"
     ]
    }
   ],
   "source": [
    "# use loompy.combine(files, key=\"Accession\") to combine all loom files in data/103.self_workflow/sample/velocyto/*.loom\n",
    "# sample is N1, N2, N4, T1, T2, T4\n",
    "# output is data/103.self_workflow/velocyto_combined.loom\n",
    "# first get a list of loom file paths for all samples\n",
    "samples = [\"N1\", \"N2\", \"N4\",\"N7\", \"T1\", \"T2\", \"T4\", \"T7\"]\n",
    "files = []\n",
    "for sample in samples:\n",
    "    files.extend(glob.glob(f\"data/103.self_workflow/{sample}/velocyto/*.loom\"))\n",
    "for f in files:\n",
    "    if sample in [\"N7\", \"T7\"]:\n",
    "    # extract the sample name from the file path, e.g. N1 from data/103.self_workflow/N1/velocyto/N1.loom\n",
    "        sample = os.path.basename(f).split(\".\")[0]\n",
    "        with loompy.connect(f) as ds:\n",
    "            new_cell_ids = []\n",
    "            for cell_id in ds.ca.CellID:\n",
    "                parts = cell_id.split(\":\")\n",
    "                new_cell_id = f\"{sample}_{parts[1]}\"\n",
    "                # remove the last x in the cell id\n",
    "                new_cell_id = new_cell_id[:-1]\n",
    "                new_cell_ids.append(new_cell_id)\n",
    "\n",
    "            ds.ca.CellID = new_cell_ids\n",
    "            print(ds.ca.CellID)\n",
    "loompy.combine(\n",
    "    files, key=\"Accession\", output_file=f\"data/103.self_workflow/velocyto_combined.loom\"\n",
    ")"
   ]
  },
  {
   "cell_type": "code",
   "execution_count": 3,
   "metadata": {},
   "outputs": [
    {
     "data": {
      "text/plain": [
       "['data/103.self_workflow/N1/velocyto/N1.loom',\n",
       " 'data/103.self_workflow/N2/velocyto/N2.loom',\n",
       " 'data/103.self_workflow/N4/velocyto/N4.loom',\n",
       " 'data/103.self_workflow/T1/velocyto/T1.loom']"
      ]
     },
     "execution_count": 3,
     "metadata": {},
     "output_type": "execute_result"
    }
   ],
   "source": [
    "files"
   ]
  }
 ],
 "metadata": {
  "kernelspec": {
   "display_name": "base",
   "language": "python",
   "name": "python3"
  },
  "language_info": {
   "codemirror_mode": {
    "name": "ipython",
    "version": 3
   },
   "file_extension": ".py",
   "mimetype": "text/x-python",
   "name": "python",
   "nbconvert_exporter": "python",
   "pygments_lexer": "ipython3",
   "version": "3.12.7"
  }
 },
 "nbformat": 4,
 "nbformat_minor": 2
}
