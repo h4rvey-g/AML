{
 "cells": [
  {
   "cell_type": "code",
   "execution_count": 1,
   "metadata": {},
   "outputs": [],
   "source": [
    "import loompy\n",
    "import os\n",
    "import glob"
   ]
  },
  {
   "cell_type": "code",
   "execution_count": 3,
   "metadata": {},
   "outputs": [
    {
     "name": "stdout",
     "output_type": "stream",
     "text": [
      "['N1_CELL10197_N1' 'N1_CELL10242_N1' 'N1_CELL10153_N1' ...\n",
      " 'N1_CELL9881_N1' 'N1_CELL9860_N1' 'N1_CELL9858_N1']\n",
      "['N2_CELL1021_N2' 'N2_CELL11705_N1' 'N2_CELL11770_N1' ... 'N2_CELL994_N3'\n",
      " 'N2_CELL9951_N1' 'N2_CELL995_N2']\n",
      "['N4_CELL11866_N1' 'N4_CELL1192_N2' 'N4_CELL1065_N2' ... 'N4_CELL918_N2'\n",
      " 'N4_CELL93_N3' 'N4_CELL9659_N1']\n",
      "['T1_CELL10024_N1' 'T1_CELL10254_N1' 'T1_CELL10253_N1' ...\n",
      " 'T1_CELL9998_N1' 'T1_CELL9989_N1' 'T1_CELL9990_N1']\n",
      "['T2_CELL109_N2' 'T2_CELL10668_N1' 'T2_CELL11279_N1' ... 'T2_CELL9710_N1'\n",
      " 'T2_CELL9753_N1' 'T2_CELL9809_N1']\n",
      "['T4_CELL10243_N1' 'T4_CELL10413_N1' 'T4_CELL10027_N1' ...\n",
      " 'T4_CELL9906_N1' 'T4_CELL9840_N1' 'T4_CELL9889_N1']\n"
     ]
    },
    {
     "name": "stderr",
     "output_type": "stream",
     "text": [
      "WARNING:root:╭── 'batch_scan_layers' is deprecated. Use 'scan' instead\n",
      "WARNING:root:╰──> at /opt/conda/lib/python3.12/site-packages/loompy/loompy.py, line 465\n",
      "WARNING:root:╭── 'batch_scan_layers' is deprecated. Use 'scan' instead\n",
      "WARNING:root:╰──> at /opt/conda/lib/python3.12/site-packages/loompy/loompy.py, line 465\n",
      "WARNING:root:╭── 'batch_scan_layers' is deprecated. Use 'scan' instead\n",
      "WARNING:root:╰──> at /opt/conda/lib/python3.12/site-packages/loompy/loompy.py, line 465\n",
      "WARNING:root:╭── 'batch_scan_layers' is deprecated. Use 'scan' instead\n",
      "WARNING:root:╰──> at /opt/conda/lib/python3.12/site-packages/loompy/loompy.py, line 465\n",
      "WARNING:root:╭── 'batch_scan_layers' is deprecated. Use 'scan' instead\n",
      "WARNING:root:╰──> at /opt/conda/lib/python3.12/site-packages/loompy/loompy.py, line 465\n"
     ]
    }
   ],
   "source": [
    "# use loompy.combine(files, key=\"Accession\") to combine all loom files in data/103.self_workflow/sample/velocyto/*.loom\n",
    "# sample is N1, N2, N4, T1, T2, T4\n",
    "# output is data/103.self_workflow/velocyto_combined.loom\n",
    "# first get a list of loom file paths for all samples\n",
    "samples = [\"N1\", \"N2\", \"N4\", \"T1\", \"T2\", \"T4\"]\n",
    "files = []\n",
    "for sample in samples:\n",
    "    files.extend(glob.glob(f\"data/103.self_workflow/{sample}/velocyto/*.loom\"))\n",
    "for f in files:\n",
    "    # extract the sample name from the file path, e.g. N1 from data/103.self_workflow/N1/velocyto/N1.loom\n",
    "    sample = os.path.basename(f).split(\".\")[0]\n",
    "    with loompy.connect(f) as ds:\n",
    "        new_cell_ids = []\n",
    "        for cell_id in ds.ca.CellID:\n",
    "            parts = cell_id.split(\":\")\n",
    "            new_cell_id = f\"{sample}_{parts[1]}\"\n",
    "            # remove the last x in the cell id\n",
    "            new_cell_id = new_cell_id[:-1]\n",
    "            new_cell_ids.append(new_cell_id)\n",
    "\n",
    "        ds.ca.CellID = new_cell_ids\n",
    "        print(ds.ca.CellID)\n",
    "loompy.combine(\n",
    "    files, key=\"Accession\", output_file=f\"data/103.self_workflow/velocyto_combined.loom\"\n",
    ")"
   ]
  }
 ],
 "metadata": {
  "kernelspec": {
   "display_name": "base",
   "language": "python",
   "name": "python3"
  },
  "language_info": {
   "codemirror_mode": {
    "name": "ipython",
    "version": 3
   },
   "file_extension": ".py",
   "mimetype": "text/x-python",
   "name": "python",
   "nbconvert_exporter": "python",
   "pygments_lexer": "ipython3",
   "version": "3.12.7"
  }
 },
 "nbformat": 4,
 "nbformat_minor": 2
}
