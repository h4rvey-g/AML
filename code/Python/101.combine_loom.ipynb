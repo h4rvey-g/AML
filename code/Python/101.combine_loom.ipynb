{
 "cells": [
  {
   "cell_type": "code",
   "execution_count": null,
   "metadata": {},
   "outputs": [],
   "source": [
    "import loompy\n",
    "import os\n",
    "import glob"
   ]
  },
  {
   "cell_type": "code",
   "execution_count": null,
   "metadata": {},
   "outputs": [],
   "source": [
    "# use loompy.combine(files, key=\"Accession\") to combine all loom files in data/103.self_workflow/sample/velocyto/*.loom\n",
    "# sample is N1, N2, N4, T1, T2, T4\n",
    "# output is data/103.self_workflow/velocyto_combined.loom\n",
    "# first get a list of loom file paths for all samples\n",
    "samples = [\"N1\", \"N2\", \"N4\", \"N7\", \"T1\", \"T2\", \"T4\", \"T7\"]\n",
    "files = []\n",
    "for sample in samples:\n",
    "    files.extend(glob.glob(f\"data/103.self_workflow/{sample}/velocyto/*.loom\"))\n",
    "\n",
    "for f in files:\n",
    "    sample = os.path.basename(f).split(\".\")[0]\n",
    "    if sample != \"N1\":\n",
    "        # extract the sample name from the file path, e.g. N1 from data/103.self_workflow/N1/velocyto/N1.loom\n",
    "        with loompy.connect(f) as ds:\n",
    "            new_cell_ids = []\n",
    "            for cell_id in ds.ca.CellID:\n",
    "                parts = cell_id.split(\":\")\n",
    "                print(f\"Processing sample: {sample}\")\n",
    "                print(f\"Parts: {parts}\")\n",
    "                new_cell_id = f\"{sample}_{parts[1]}\"\n",
    "                print(f\"New cell_id: {new_cell_id}\")\n",
    "                # remove the last x in the cell id\n",
    "                new_cell_id = new_cell_id[:-1]\n",
    "                new_cell_ids.append(new_cell_id)\n",
    "\n",
    "            ds.ca.CellID = new_cell_ids\n",
    "            print(ds.ca.CellID)\n",
    "\n",
    "loompy.combine(\n",
    "    files, key=\"Accession\", output_file=f\"data/103.self_workflow/velocyto_combined.loom\"\n",
    ")"
   ]
  },
  {
   "cell_type": "code",
   "execution_count": null,
   "metadata": {},
   "outputs": [],
   "source": [
    "files"
   ]
  }
 ],
 "metadata": {
  "kernelspec": {
   "display_name": "base",
   "language": "python",
   "name": "python3"
  },
  "language_info": {
   "codemirror_mode": {
    "name": "ipython",
    "version": 3
   },
   "file_extension": ".py",
   "mimetype": "text/x-python",
   "name": "python",
   "nbconvert_exporter": "python",
   "pygments_lexer": "ipython3",
   "version": "3.12.7"
  }
 },
 "nbformat": 4,
 "nbformat_minor": 2
}
