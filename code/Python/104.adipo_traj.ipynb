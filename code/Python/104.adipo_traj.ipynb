{
 "cells": [
  {
   "cell_type": "code",
   "execution_count": 1,
   "id": "6270187f",
   "metadata": {},
   "outputs": [],
   "source": [
    "import anndata as ad\n",
    "import scvelo as scv\n",
    "import scanpy as sc\n",
    "import matplotlib.pyplot as plt\n",
    "import pandas as pd\n",
    "\n",
    "# Load the velocyto loom file\n",
    "ldata = sc.read(\"data/103.self_workflow/velocyto_combined.loom\", cache=False)\n",
    "\n",
    "# Set plotting settings\n",
    "scv.settings.set_figure_params('scvelo', figsize=(10, 8))\n",
    "adata = ad.read_h5ad('data/110.adipo/sc_adipo.h5ad')"
   ]
  },
  {
   "cell_type": "code",
   "execution_count": 3,
   "id": "d0fae6fd",
   "metadata": {},
   "outputs": [
    {
     "name": "stdout",
     "output_type": "stream",
     "text": [
      "adata shape: (12516, 33177)\n",
      "ldata shape: (80603, 33836)\n",
      "Common cells: 10561\n"
     ]
    }
   ],
   "source": [
    "# Make sure cell names match between anndata objects\n",
    "ldata.obs.index = [x.split(':')[1] if ':' in x else x for x in ldata.obs.index]\n",
    "ldata.obs.index = ldata.obs.index.str.replace('x', '')\n",
    "\n",
    "# # Check for and handle duplicates in ldata index\n",
    "# if ldata.obs.index.duplicated().any():\n",
    "# \tprint(f\"Found {sum(ldata.obs.index.duplicated())} duplicated indices in ldata\")\n",
    "# \t# Make indices unique by adding a suffix to duplicates\n",
    "# \tldata.obs.index = ldata.obs.index.astype(str) + '_' + ldata.obs.groupby(level=0).cumcount().astype(str)\n",
    "# \t# Remove the '_0' suffix from non-duplicated indices\n",
    "# \tldata.obs.index = [idx[:-2] if idx.endswith('_0') else idx for idx in ldata.obs.index]\n",
    "\n",
    "# Print info about our datasets to verify\n",
    "print(f\"adata shape: {adata.shape}\")\n",
    "print(f\"ldata shape: {ldata.shape}\")\n",
    "print(f\"Common cells: {len(set(adata.obs.index) & set(ldata.obs.index))}\")\n",
    "\n",
    "# Add spliced/unspliced data to our original adata object\n",
    "adata = scv.utils.merge(adata, ldata)"
   ]
  },
  {
   "cell_type": "code",
   "execution_count": null,
   "id": "d07c10b2",
   "metadata": {},
   "outputs": [],
   "source": [
    "\n",
    "# Preprocessing and computing velocity\n",
    "scv.pp.filter_and_normalize(adata)\n",
    "scv.pp.moments(adata)\n",
    "scv.tl.recover_dynamics(adata, n_jobs=8)\n",
    "scv.tl.velocity(adata, mode=\"dynamical\")\n",
    "scv.tl.velocity_graph(adata, n_jobs=8)\n",
    "\n",
    "# Plot velocity stream with cells colored by cell_type_dtl\n",
    "scv.pl.velocity_embedding_stream(adata, basis='X_umap_integrated', color='cell_type_dtl',\n",
    "                                legend_loc='right', title='RNA Velocity - EM Model', \n",
    "                                size=15, alpha=0.8, dpi=120)\n",
    "\n",
    "plt.tight_layout()"
   ]
  },
  {
   "cell_type": "markdown",
   "id": "e31c08ae",
   "metadata": {},
   "source": [
    "# 14.5.2. RNA Velocity Inference - EM Model\n",
    "\n",
    "在这一节中，我们将使用EM模型来推断RNA速率，这需要首先推断剪接动力学的参数。"
   ]
  },
  {
   "cell_type": "code",
   "execution_count": null,
   "id": "a34e092b",
   "metadata": {},
   "outputs": [],
   "source": [
    "# 使用scVelo的recover_dynamics函数推断剪接动力学参数\n",
    "scv.tl.recover_dynamics(adata, n_jobs=8)\n",
    "\n",
    "# 查看拟合最好的基因的相位图\n",
    "top_genes = adata.var[\"fit_likelihood\"].sort_values(ascending=False).index\n",
    "scv.pl.scatter(adata, basis=top_genes[:5], color=\"cell_type_dtl\", frameon=False, \n",
    "               title=['Gene '+str(i+1)+': '+gene for i, gene in enumerate(top_genes[:5])])\n",
    "\n",
    "# 使用动态模式计算速率\n",
    "scv.tl.velocity(adata, mode=\"dynamical\")\n",
    "scv.tl.velocity_graph(adata, n_jobs=8)\n",
    "\n",
    "# 可视化结果\n",
    "scv.pl.velocity_embedding_stream(adata, basis='X_umap_integrated', color='cell_type_dtl',\n",
    "                                legend_loc='right', title='RNA Velocity - EM Model', \n",
    "                                size=15, alpha=0.8, dpi=120)\n",
    "\n",
    "plt.tight_layout()"
   ]
  },
  {
   "cell_type": "markdown",
   "id": "eef21943",
   "metadata": {},
   "source": [
    "## 比较标准模型和EM模型\n",
    "\n",
    "EM模型能够更好地捕捉细胞周期和分化轨迹。通过比较两种模型，我们可以发现：\n",
    "\n",
    "1. EM模型更准确地反映了细胞类型间的转换关系\n",
    "2. 相比标准模型，EM模型考虑了转录动力学，提供了更准确的速率估计\n",
    "3. 对于进一步分析，可以使用下游工具如CellRank进行更严格的定量分析\n",
    "\n",
    "下面我们将进一步分析速率模式对理解细胞命运的影响。"
   ]
  },
  {
   "cell_type": "code",
   "execution_count": null,
   "id": "6a399410",
   "metadata": {},
   "outputs": [],
   "source": [
    "# 可视化速率与潜在空间的关系\n",
    "scv.pl.velocity_embedding(adata, basis='X_umap_integrated', arrow_length=3, \n",
    "                         arrow_size=2, dpi=120)\n",
    "\n",
    "# 速率和细胞状态的关系\n",
    "scv.tl.velocity_confidence(adata)\n",
    "keys = 'velocity_length', 'velocity_confidence'\n",
    "scv.pl.scatter(adata, c=keys, cmap='coolwarm', perc=[5, 95])\n",
    "\n",
    "# 速率伪时间分析\n",
    "scv.tl.velocity_pseudotime(adata)\n",
    "scv.pl.scatter(adata, color='velocity_pseudotime', cmap='gnuplot')\n",
    "\n",
    "# PAGA图可以帮助我们理解不同细胞类型之间的关系\n",
    "# 注意：如果没有提前计算过PAGA，可能需要先运行相关步骤\n",
    "try:\n",
    "    scv.tl.paga(adata, groups='cell_type_dtl')\n",
    "    scv.pl.paga(adata, basis='X_umap_integrated', size=50, alpha=.1,\n",
    "                min_edge_width=2, node_size_scale=1.5)\n",
    "except:\n",
    "    print(\"PAGA分析需要预先计算的邻居信息，跳过这一步\")"
   ]
  }
 ],
 "metadata": {
  "kernelspec": {
   "display_name": "scveloenv",
   "language": "python",
   "name": "python3"
  },
  "language_info": {
   "codemirror_mode": {
    "name": "ipython",
    "version": 3
   },
   "file_extension": ".py",
   "mimetype": "text/x-python",
   "name": "python",
   "nbconvert_exporter": "python",
   "pygments_lexer": "ipython3",
   "version": "3.12.9"
  }
 },
 "nbformat": 4,
 "nbformat_minor": 5
}
