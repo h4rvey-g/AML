{
 "cells": [
  {
   "cell_type": "code",
   "execution_count": 1,
   "id": "6270187f",
   "metadata": {},
   "outputs": [],
   "source": [
    "import anndata as ad\n",
    "\n",
    "adata = ad.read_h5ad('data/110.adipo/trajectory/adipo.h5ad')"
   ]
  },
  {
   "cell_type": "code",
   "execution_count": 2,
   "id": "d0fae6fd",
   "metadata": {},
   "outputs": [
    {
     "data": {
      "text/plain": [
       "AnnData object with n_obs × n_vars = 10561 × 2000\n",
       "    obs: 'barcode', 'cell_type', 'cell_type_dtl', 'cell_type_normal', 'cell_type_tumor', 'dataset', 'group', 'hemo', 'mito', 'nCount_RNA', 'nFeature_RNA', 'nGene', 'nUMI', 'orig.ident', 'ribo', 'seurat_clusters_CLC', 'seurat_clusters_FibPSC', 'seurat_clusters_normal', 'seurat_clusters_stero_medulla', 'seurat_clusters_steroidogenic_normal', 'seurat_clusters_tumor', 'initial_size_unspliced', 'initial_size_spliced', 'initial_size', 'n_counts', 'velocity_self_transition', 'cell_type_group', 'Pseudotime', 'Entropy', 'Adipo_fate', 'Fib_fate'\n",
       "    var: 'gene_count_corr', 'means', 'dispersions', 'dispersions_norm', 'highly_variable', 'velocity_gamma', 'velocity_qreg_ratio', 'velocity_r2', 'velocity_genes'\n",
       "    uns: 'cell_type_group_colors', 'log1p', 'neighbors', 'velocity_graph', 'velocity_graph_neg', 'velocity_params'\n",
       "    obsm: 'X_harmony', 'X_ms', 'X_pca', 'X_scvi', 'X_umap', 'X_umap_integrated', 'X_umap_unintegrated', 'harmony_cell_embeddings', 'pca_cell_embeddings', 'scvi_cell_embeddings', 'umap_cell_embeddings', 'umap_integrated_cell_embeddings', 'umap_unintegrated_cell_embeddings', 'velocity_ms'\n",
       "    layers: 'Ms', 'Mu', 'matrix', 'spliced', 'unspliced', 'variance_velocity', 'velocity'\n",
       "    obsp: 'connectivities', 'distances'"
      ]
     },
     "execution_count": 2,
     "metadata": {},
     "output_type": "execute_result"
    }
   ],
   "source": [
    "adata"
   ]
  }
 ],
 "metadata": {
  "kernelspec": {
   "display_name": "scveloenv",
   "language": "python",
   "name": "python3"
  },
  "language_info": {
   "codemirror_mode": {
    "name": "ipython",
    "version": 3
   },
   "file_extension": ".py",
   "mimetype": "text/x-python",
   "name": "python",
   "nbconvert_exporter": "python",
   "pygments_lexer": "ipython3",
   "version": "3.12.9"
  }
 },
 "nbformat": 4,
 "nbformat_minor": 5
}
