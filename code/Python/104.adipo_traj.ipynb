{
 "cells": [
  {
   "cell_type": "code",
   "execution_count": 18,
   "id": "6270187f",
   "metadata": {},
   "outputs": [],
   "source": [
    "import anndata as ad\n",
    "import scvelo as scv\n",
    "import scanpy as sc\n",
    "import matplotlib.pyplot as plt\n",
    "import pandas as pd\n",
    "\n",
    "# Load the velocyto loom file\n",
    "ldata = sc.read(\"data/103.self_workflow/velocyto_combined.loom\", cache=True)\n",
    "\n",
    "# Set plotting settings\n",
    "scv.settings.set_figure_params('scvelo', figsize=(10, 8))\n",
    "adata = ad.read_h5ad('data/110.adipo/sc_adipo.h5ad')"
   ]
  },
  {
   "cell_type": "code",
   "execution_count": 19,
   "id": "9385ccbb",
   "metadata": {},
   "outputs": [
    {
     "data": {
      "text/plain": [
       "cell_type\n",
       "PSC      5289\n",
       "Fib      4793\n",
       "Adipo    2434\n",
       "Name: count, dtype: int64"
      ]
     },
     "execution_count": 19,
     "metadata": {},
     "output_type": "execute_result"
    }
   ],
   "source": [
    "# print cell counts in adata\n",
    "adata.obs['cell_type'].value_counts()"
   ]
  },
  {
   "cell_type": "code",
   "execution_count": null,
   "id": "ab9bf9fe",
   "metadata": {},
   "outputs": [
    {
     "name": "stdout",
     "output_type": "stream",
     "text": [
      "Total number of cells in adata: 12516\n",
      "Total number of cells in ldata: 37820\n",
      "Number of matching cells after removing suffixes: 927\n",
      "\n",
      "Sample of matching cell names:\n",
      "  1. N1_CELL916\n",
      "  2. N1_CELL3838\n",
      "  3. N1_CELL10356\n",
      "  4. N1_CELL1284\n",
      "  5. N1_CELL207\n"
     ]
    }
   ],
   "source": [
    "# Create lists of cell names with suffixes removed\n",
    "adata_names_clean = [\n",
    "    (\n",
    "        name[:-3]\n",
    "        if (\n",
    "            name.endswith(\"_N1\")\n",
    "            or name.endswith(\"_N2\")\n",
    "            or name.endswith(\"_N3\")\n",
    "            or name.endswith(\"_N4\")\n",
    "            or name.endswith(\"_T1\")\n",
    "            or name.endswith(\"_T2\")\n",
    "            or name.endswith(\"_T3\")\n",
    "            or name.endswith(\"_T4\")\n",
    "        )\n",
    "        else name\n",
    "    )\n",
    "    for name in adata.obs.index\n",
    "]\n",
    "\n",
    "ldata_names_clean = [\n",
    "    (\n",
    "        name[:-4]\n",
    "        if (\n",
    "            name.endswith(\"_N1x\")\n",
    "            or name.endswith(\"_N2x\")\n",
    "            or name.endswith(\"_N3x\")\n",
    "            or name.endswith(\"_N4x\")\n",
    "            or name.endswith(\"_T1x\")\n",
    "            or name.endswith(\"_T2x\")\n",
    "            or name.endswith(\"_T3x\")\n",
    "            or name.endswith(\"_T4x\")\n",
    "        )\n",
    "        else name\n",
    "    )\n",
    "    for name in ldata.obs.index\n",
    "]\n",
    "\n",
    "# Find intersection\n",
    "intersection = set(adata_names_clean) & set(ldata_names_clean)\n",
    "\n",
    "# Print results\n",
    "print(f\"Total number of cells in adata: {len(adata_names_clean)}\")\n",
    "print(f\"Total number of cells in ldata: {len(ldata_names_clean)}\")\n",
    "print(f\"Number of matching cells after removing suffixes: {len(intersection)}\")\n",
    "\n",
    "# Print some examples of matching cell names\n",
    "print(\"\\nSample of matching cell names:\")\n",
    "sample_matches = list(intersection)[:5]\n",
    "for i, match in enumerate(sample_matches):\n",
    "    print(f\"  {i+1}. {match}\")"
   ]
  },
  {
   "cell_type": "code",
   "execution_count": 9,
   "id": "d0fae6fd",
   "metadata": {},
   "outputs": [
    {
     "name": "stdout",
     "output_type": "stream",
     "text": [
      "Found 19847 duplicated indices in ldata\n",
      "adata shape: (12516, 33177)\n",
      "ldata shape: (37820, 55348)\n",
      "Common cells: 496\n"
     ]
    }
   ],
   "source": [
    "# Make sure cell names match between anndata objects\n",
    "ldata.obs.index = [x.split(':')[1] if ':' in x else x for x in ldata.obs.index]\n",
    "ldata.obs.index = ldata.obs.index.str.replace('x', '')\n",
    "\n",
    "# Check for and handle duplicates in ldata index\n",
    "if ldata.obs.index.duplicated().any():\n",
    "\tprint(f\"Found {sum(ldata.obs.index.duplicated())} duplicated indices in ldata\")\n",
    "\t# Make indices unique by adding a suffix to duplicates\n",
    "\tldata.obs.index = ldata.obs.index.astype(str) + '_' + ldata.obs.groupby(level=0).cumcount().astype(str)\n",
    "\t# Remove the '_0' suffix from non-duplicated indices\n",
    "\tldata.obs.index = [idx[:-2] if idx.endswith('_0') else idx for idx in ldata.obs.index]\n",
    "\n",
    "# Print info about our datasets to verify\n",
    "print(f\"adata shape: {adata.shape}\")\n",
    "print(f\"ldata shape: {ldata.shape}\")\n",
    "print(f\"Common cells: {len(set(adata.obs.index) & set(ldata.obs.index))}\")\n",
    "\n",
    "# Add spliced/unspliced data to our original adata object\n",
    "adata = scv.utils.merge(adata, ldata)"
   ]
  },
  {
   "cell_type": "code",
   "execution_count": null,
   "id": "d07c10b2",
   "metadata": {
    "vscode": {
     "languageId": "r"
    }
   },
   "outputs": [],
   "source": [
    "\n",
    "# Preprocessing and computing velocity\n",
    "scv.pp.filter_and_normalize(adata)\n",
    "scv.pp.moments(adata)\n",
    "scv.tl.velocity(adata)\n",
    "scv.tl.velocity_graph(adata)\n",
    "\n",
    "# Plot velocity stream with cells colored by cell_type_dtl\n",
    "scv.pl.velocity_embedding_stream(adata, basis='X_umap_integrated', color='cell_type_dtl',\n",
    "                                legend_loc='right', title='RNA Velocity - Cell Types', \n",
    "                                size=15, alpha=0.8, dpi=120)\n",
    "\n",
    "plt.tight_layout()\n"
   ]
  }
 ],
 "metadata": {
  "kernelspec": {
   "display_name": "scveloenv",
   "language": "python",
   "name": "python3"
  },
  "language_info": {
   "codemirror_mode": {
    "name": "ipython",
    "version": 3
   },
   "file_extension": ".py",
   "mimetype": "text/x-python",
   "name": "python",
   "nbconvert_exporter": "python",
   "pygments_lexer": "ipython3",
   "version": "3.12.9"
  }
 },
 "nbformat": 4,
 "nbformat_minor": 5
}
