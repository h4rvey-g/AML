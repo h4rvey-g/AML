{
 "cells": [
  {
   "cell_type": "code",
   "execution_count": null,
   "metadata": {},
   "outputs": [],
   "source": [
    "import scanpy as sc\n",
    "import celltypist\n",
    "import os\n",
    "\n",
    "# 读取数据\n",
    "# adata = sc.read('data/104.RNA_velocity/anndata.h5ad')\n",
    "\n",
    "# 确保表达矩阵是 log1p 归一化到每个细胞 10000 个计数\n",
    "sc.pp.normalize_per_cell(adata, counts_per_cell_after=1e4)\n",
    "sc.pp.log1p(adata)\n",
    "\n",
    "# 下载模型\n",
    "celltypist.models.download_models(model ='Fetal_Human_AdrenalGlands.pkl')\n",
    "\n",
    "# 注释细胞类型\n",
    "predictions = celltypist.annotate(adata, model='Fetal_Human_AdrenalGlands.pkl', majority_voting=True)\n",
    "\n",
    "# 创建目录\n",
    "os.makedirs('data/105.celltypist/', exist_ok=True)\n",
    "\n",
    "# 保存预测标签和概率矩阵\n",
    "predictions.predicted_labels.to_csv('data/105.celltypist/predicted_labels.tsv', sep='\\t', index=True)\n",
    "predictions.probability_matrix.to_csv('data/105.celltypist/probability_matrix.tsv', sep='\\t', index=True)"
   ]
  },
  {
   "cell_type": "code",
   "execution_count": 14,
   "metadata": {},
   "outputs": [],
   "source": [
    "\n",
    "predictions.predicted_labels.to_csv('data/105.celltypist/predicted_labels.tsv', sep='\\t', index=True)\n",
    "predictions.probability_matrix.to_csv('data/105.celltypist/probability_matrix.tsv', sep='\\t', index=True)"
   ]
  }
 ],
 "metadata": {
  "kernelspec": {
   "display_name": "base",
   "language": "python",
   "name": "python3"
  },
  "language_info": {
   "codemirror_mode": {
    "name": "ipython",
    "version": 3
   },
   "file_extension": ".py",
   "mimetype": "text/x-python",
   "name": "python",
   "nbconvert_exporter": "python",
   "pygments_lexer": "ipython3",
   "version": "3.12.7"
  }
 },
 "nbformat": 4,
 "nbformat_minor": 2
}
